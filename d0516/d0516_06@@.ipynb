{
 "cells": [
  {
   "cell_type": "code",
   "execution_count": 26,
   "metadata": {},
   "outputs": [],
   "source": [
    "import matplotlib.pyplot as plt\n",
    "import matplotlib\n",
    "import numpy as np\n",
    "import random\n",
    "matplotlib.rcParams['font.family'] = 'Malgun Gothic'\n",
    "matplotlib.rcParams['font.size'] = 10\n",
    "matplotlib.rcParams['axes.unicode_minus'] = False\n",
    "import pandas as pd"
   ]
  },
  {
   "cell_type": "code",
   "execution_count": 27,
   "metadata": {},
   "outputs": [
    {
     "name": "stderr",
     "output_type": "stream",
     "text": [
      "c:\\Users\\KOREAVC\\AppData\\Local\\Programs\\Python\\Python311\\Lib\\site-packages\\openpyxl\\styles\\stylesheet.py:226: UserWarning: Workbook contains no default style, apply openpyxl's default\n",
      "  warn(\"Workbook contains no default style, apply openpyxl's default\")\n"
     ]
    },
    {
     "data": {
      "text/html": [
       "<div>\n",
       "<style scoped>\n",
       "    .dataframe tbody tr th:only-of-type {\n",
       "        vertical-align: middle;\n",
       "    }\n",
       "\n",
       "    .dataframe tbody tr th {\n",
       "        vertical-align: top;\n",
       "    }\n",
       "\n",
       "    .dataframe thead th {\n",
       "        text-align: right;\n",
       "    }\n",
       "</style>\n",
       "<table border=\"1\" class=\"dataframe\">\n",
       "  <thead>\n",
       "    <tr style=\"text-align: right;\">\n",
       "      <th></th>\n",
       "      <th>0~4세</th>\n",
       "      <th>5~9세</th>\n",
       "      <th>10~14세</th>\n",
       "      <th>15~19세</th>\n",
       "      <th>20~24세</th>\n",
       "      <th>25~29세</th>\n",
       "      <th>30~34세</th>\n",
       "      <th>35~39세</th>\n",
       "      <th>40~44세</th>\n",
       "      <th>45~49세</th>\n",
       "      <th>...</th>\n",
       "      <th>55~59세</th>\n",
       "      <th>60~64세</th>\n",
       "      <th>65~69세</th>\n",
       "      <th>70~74세</th>\n",
       "      <th>75~79세</th>\n",
       "      <th>80~84세</th>\n",
       "      <th>85~89세</th>\n",
       "      <th>90~94세</th>\n",
       "      <th>95~99세</th>\n",
       "      <th>100세 이상</th>\n",
       "    </tr>\n",
       "    <tr>\n",
       "      <th>행정기관</th>\n",
       "      <th></th>\n",
       "      <th></th>\n",
       "      <th></th>\n",
       "      <th></th>\n",
       "      <th></th>\n",
       "      <th></th>\n",
       "      <th></th>\n",
       "      <th></th>\n",
       "      <th></th>\n",
       "      <th></th>\n",
       "      <th></th>\n",
       "      <th></th>\n",
       "      <th></th>\n",
       "      <th></th>\n",
       "      <th></th>\n",
       "      <th></th>\n",
       "      <th></th>\n",
       "      <th></th>\n",
       "      <th></th>\n",
       "      <th></th>\n",
       "      <th></th>\n",
       "    </tr>\n",
       "  </thead>\n",
       "  <tbody>\n",
       "    <tr>\n",
       "      <th>전국</th>\n",
       "      <td>726460</td>\n",
       "      <td>1072653</td>\n",
       "      <td>1211077</td>\n",
       "      <td>1211949</td>\n",
       "      <td>1524378</td>\n",
       "      <td>1823908</td>\n",
       "      <td>1737714</td>\n",
       "      <td>1684266</td>\n",
       "      <td>2055130</td>\n",
       "      <td>2039606</td>\n",
       "      <td>...</td>\n",
       "      <td>2052227</td>\n",
       "      <td>2097254</td>\n",
       "      <td>1554976</td>\n",
       "      <td>1038388</td>\n",
       "      <td>713448</td>\n",
       "      <td>507915</td>\n",
       "      <td>212726</td>\n",
       "      <td>54180</td>\n",
       "      <td>8880</td>\n",
       "      <td>1307</td>\n",
       "    </tr>\n",
       "  </tbody>\n",
       "</table>\n",
       "<p>1 rows × 21 columns</p>\n",
       "</div>"
      ],
      "text/plain": [
       "        0~4세     5~9세   10~14세   15~19세   20~24세   25~29세   30~34세   35~39세  \\\n",
       "행정기관                                                                          \n",
       "전국    726460  1072653  1211077  1211949  1524378  1823908  1737714  1684266   \n",
       "\n",
       "       40~44세   45~49세  ...   55~59세   60~64세   65~69세   70~74세  75~79세  \\\n",
       "행정기관                    ...                                               \n",
       "전국    2055130  2039606  ...  2052227  2097254  1554976  1038388  713448   \n",
       "\n",
       "      80~84세  85~89세  90~94세  95~99세  100세 이상  \n",
       "행정기관                                           \n",
       "전국    507915  212726   54180    8880     1307  \n",
       "\n",
       "[1 rows x 21 columns]"
      ]
     },
     "execution_count": 27,
     "metadata": {},
     "output_type": "execute_result"
    }
   ],
   "source": [
    "import pandas as pd\n",
    "df1 = pd.read_excel('../z20_data/20240514인구.xlsx', thousands=',', skiprows=3,index_col='행정기관',usecols='b,e:y')\n",
    "df1.head(1)"
   ]
  },
  {
   "cell_type": "code",
   "execution_count": 28,
   "metadata": {},
   "outputs": [
    {
     "name": "stderr",
     "output_type": "stream",
     "text": [
      "c:\\Users\\KOREAVC\\AppData\\Local\\Programs\\Python\\Python311\\Lib\\site-packages\\openpyxl\\styles\\stylesheet.py:226: UserWarning: Workbook contains no default style, apply openpyxl's default\n",
      "  warn(\"Workbook contains no default style, apply openpyxl's default\")\n"
     ]
    },
    {
     "data": {
      "text/html": [
       "<div>\n",
       "<style scoped>\n",
       "    .dataframe tbody tr th:only-of-type {\n",
       "        vertical-align: middle;\n",
       "    }\n",
       "\n",
       "    .dataframe tbody tr th {\n",
       "        vertical-align: top;\n",
       "    }\n",
       "\n",
       "    .dataframe thead th {\n",
       "        text-align: right;\n",
       "    }\n",
       "</style>\n",
       "<table border=\"1\" class=\"dataframe\">\n",
       "  <thead>\n",
       "    <tr style=\"text-align: right;\">\n",
       "      <th></th>\n",
       "      <th>0~4세.1</th>\n",
       "      <th>5~9세.1</th>\n",
       "      <th>10~14세.1</th>\n",
       "      <th>15~19세.1</th>\n",
       "      <th>20~24세.1</th>\n",
       "      <th>25~29세.1</th>\n",
       "      <th>30~34세.1</th>\n",
       "      <th>35~39세.1</th>\n",
       "      <th>40~44세.1</th>\n",
       "      <th>45~49세.1</th>\n",
       "      <th>...</th>\n",
       "      <th>55~59세.1</th>\n",
       "      <th>60~64세.1</th>\n",
       "      <th>65~69세.1</th>\n",
       "      <th>70~74세.1</th>\n",
       "      <th>75~79세.1</th>\n",
       "      <th>80~84세.1</th>\n",
       "      <th>85~89세.1</th>\n",
       "      <th>90~94세.1</th>\n",
       "      <th>95~99세.1</th>\n",
       "      <th>100세 이상.1</th>\n",
       "    </tr>\n",
       "    <tr>\n",
       "      <th>행정기관</th>\n",
       "      <th></th>\n",
       "      <th></th>\n",
       "      <th></th>\n",
       "      <th></th>\n",
       "      <th></th>\n",
       "      <th></th>\n",
       "      <th></th>\n",
       "      <th></th>\n",
       "      <th></th>\n",
       "      <th></th>\n",
       "      <th></th>\n",
       "      <th></th>\n",
       "      <th></th>\n",
       "      <th></th>\n",
       "      <th></th>\n",
       "      <th></th>\n",
       "      <th></th>\n",
       "      <th></th>\n",
       "      <th></th>\n",
       "      <th></th>\n",
       "      <th></th>\n",
       "    </tr>\n",
       "  </thead>\n",
       "  <tbody>\n",
       "    <tr>\n",
       "      <th>전국</th>\n",
       "      <td>691045</td>\n",
       "      <td>1020598</td>\n",
       "      <td>1144645</td>\n",
       "      <td>1134811</td>\n",
       "      <td>1402493</td>\n",
       "      <td>1642682</td>\n",
       "      <td>1579871</td>\n",
       "      <td>1598401</td>\n",
       "      <td>1980502</td>\n",
       "      <td>1990483</td>\n",
       "      <td>...</td>\n",
       "      <td>2017243</td>\n",
       "      <td>2132394</td>\n",
       "      <td>1649709</td>\n",
       "      <td>1174486</td>\n",
       "      <td>908877</td>\n",
       "      <td>802501</td>\n",
       "      <td>459932</td>\n",
       "      <td>177039</td>\n",
       "      <td>39806</td>\n",
       "      <td>6604</td>\n",
       "    </tr>\n",
       "  </tbody>\n",
       "</table>\n",
       "<p>1 rows × 21 columns</p>\n",
       "</div>"
      ],
      "text/plain": [
       "      0~4세.1   5~9세.1  10~14세.1  15~19세.1  20~24세.1  25~29세.1  30~34세.1  \\\n",
       "행정기관                                                                      \n",
       "전국    691045  1020598   1144645   1134811   1402493   1642682   1579871   \n",
       "\n",
       "      35~39세.1  40~44세.1  45~49세.1  ...  55~59세.1  60~64세.1  65~69세.1  \\\n",
       "행정기관                                ...                                 \n",
       "전국     1598401   1980502   1990483  ...   2017243   2132394   1649709   \n",
       "\n",
       "      70~74세.1  75~79세.1  80~84세.1  85~89세.1  90~94세.1  95~99세.1  100세 이상.1  \n",
       "행정기관                                                                         \n",
       "전국     1174486    908877    802501    459932    177039     39806       6604  \n",
       "\n",
       "[1 rows x 21 columns]"
      ]
     },
     "execution_count": 28,
     "metadata": {},
     "output_type": "execute_result"
    }
   ],
   "source": [
    "import pandas as pd\n",
    "df2 = pd.read_excel('../z20_data/20240514인구.xlsx', thousands=',', skiprows=3,index_col='행정기관',usecols='b,ab:av')\n",
    "df2.head(1)"
   ]
  },
  {
   "cell_type": "code",
   "execution_count": 29,
   "metadata": {},
   "outputs": [],
   "source": [
    "# df.iloc[0].str.replace(',','').astype(int)"
   ]
  },
  {
   "cell_type": "code",
   "execution_count": 30,
   "metadata": {},
   "outputs": [
    {
     "data": {
      "text/plain": [
       "Index(['0~4세', '5~9세', '10~14세', '15~19세', '20~24세', '25~29세', '30~34세',\n",
       "       '35~39세', '40~44세', '45~49세', '50~54세', '55~59세', '60~64세', '65~69세',\n",
       "       '70~74세', '75~79세', '80~84세', '85~89세', '90~94세', '95~99세', '100세 이상'],\n",
       "      dtype='object')"
      ]
     },
     "execution_count": 30,
     "metadata": {},
     "output_type": "execute_result"
    }
   ],
   "source": [
    "df1.columns"
   ]
  },
  {
   "cell_type": "code",
   "execution_count": 31,
   "metadata": {},
   "outputs": [],
   "source": [
    "m_values = df1.values[0]\n",
    "w_values = df2.values[0]"
   ]
  },
  {
   "cell_type": "code",
   "execution_count": 32,
   "metadata": {},
   "outputs": [],
   "source": [
    "# 같은 예제문제\n",
    "# https://jehyunlee.github.io/2021/10/05/Python-DS-85-popkr/"
   ]
  },
  {
   "cell_type": "markdown",
   "metadata": {},
   "source": [
    "##### 연령별 인구현황\n",
    "#####   2023년 1월 연령별 인구수를 가로막대그래프로 출력하시오. barh\n",
    "##### 남자범위: 'b,e:y' // 여자범위: 'b,ab:av'"
   ]
  },
  {
   "cell_type": "code",
   "execution_count": 33,
   "metadata": {},
   "outputs": [
    {
     "data": {
      "text/plain": [
       "<BarContainer object of 21 artists>"
      ]
     },
     "execution_count": 33,
     "metadata": {},
     "output_type": "execute_result"
    },
    {
     "data": {
      "image/png": "[encoded data removed]",
      "text/plain": [
       "<Figure size 640x480 with 1 Axes>"
      ]
     },
     "metadata": {},
     "output_type": "display_data"
    }
   ],
   "source": [
    "plt.barh(df1.columns,m_values/100)"
   ]
  },
  {
   "cell_type": "code",
   "execution_count": 53,
   "metadata": {},
   "outputs": [
    {
     "data": {
      "image/png": "[encoded data removed]",
      "text/plain": [
       "<Figure size 1000x500 with 2 Axes>"
      ]
     },
     "metadata": {},
     "output_type": "display_data"
    }
   ],
   "source": [
    "# ncols=2: 가로로 2개\n",
    "# figsize=(10,5): fig의 (가로,세로)\n",
    "# sharey=True: y축의 값을 같이 ㅅ ㅏ용\n",
    "#gridspec_kw={'wspace':0}: 간격0\n",
    "fig,axs = plt.subplots(ncols=2, figsize=(10,5), sharey=True, gridspec_kw={'wspace':0})"
   ]
  },
  {
   "cell_type": "code",
   "execution_count": 39,
   "metadata": {},
   "outputs": [
    {
     "data": {
      "text/plain": [
       "(0.0, 25000.0)"
      ]
     },
     "execution_count": 39,
     "metadata": {},
     "output_type": "execute_result"
    },
    {
     "data": {
      "image/png": "[encoded data removed]",
      "text/plain": [
       "<Figure size 1000x500 with 2 Axes>"
      ]
     },
     "metadata": {},
     "output_type": "display_data"
    }
   ],
   "source": [
    "fig, axs = plt.subplots(ncols=2, sharey=True, figsize=(10, 5), gridspec_kw={\"wspace\":0})\n",
    "axs[0].barh(df1.columns, m_values/100, color=\"green\")\n",
    "axs[1].barh(df1.columns, w_values/100, color=\"darkorange\")\n",
    "xmax = 25000\n",
    "axs[0].set_xlim(xmax, 0)\n",
    "axs[1].set_xlim(0, xmax)"
   ]
  },
  {
   "cell_type": "markdown",
   "metadata": {},
   "source": [
    "#####   1,2,3,4월 합산해서 가로막대그래프 출력\n",
    "### 1월 b,e:y // b,ab:av\n",
    "### 2월 b,ay:bs // b,bv:cp\n",
    "### 3월 b,cs:dm // b,dp:ej\n",
    "### 4월 b,em:fg // b,fj:gd"
   ]
  },
  {
   "cell_type": "code",
   "execution_count": 10,
   "metadata": {},
   "outputs": [],
   "source": [
    "# 월별 남여 구간\n",
    "rangee = ['b,e:y','b,ab:av','b,ay:bs','b,bv:cp','b,cs:dm','b,dp:ej','b,em:fg','b,fj:gd']\n",
    "# {\n",
    "#     1:['b,e:y','b,ab:av'],\n",
    "#     2:['b,ay:bs','b,bv:cp'],\n",
    "#     3:['b,cs:dm','b,dp:ej'],\n",
    "#     4:['b,em:fg','b,fj:gd']\n",
    "#     }"
   ]
  },
  {
   "cell_type": "code",
   "execution_count": null,
   "metadata": {},
   "outputs": [],
   "source": [
    "# 1월 데이터\n",
    "df1m = pd.read_excel('../z20_data/20240514인구.xlsx', thousands=',', skiprows=3,index_col='행정기관',usecols='b,e:y')\n",
    "df1m.head(1)\n",
    "\n",
    "df1w = pd.read_excel('../z20_data/20240514인구.xlsx', thousands=',', skiprows=3,index_col='행정기관',usecols='b,ab:av')\n",
    "df1w.head(1)"
   ]
  },
  {
   "cell_type": "code",
   "execution_count": null,
   "metadata": {},
   "outputs": [],
   "source": [
    "# 2월 데이터\n",
    "df2m = pd.read_excel('../z20_data/20240514인구.xlsx', thousands=',', skiprows=3,index_col='행정기관',usecols='b,ay:bs')\n",
    "df2m.head(1)\n",
    "\n",
    "df2w = pd.read_excel('../z20_data/20240514인구.xlsx', thousands=',', skiprows=3,index_col='행정기관',usecols='b,bv:cp')\n",
    "df2w.head(1)"
   ]
  },
  {
   "cell_type": "code",
   "execution_count": null,
   "metadata": {},
   "outputs": [],
   "source": [
    "# 3월 데이터\n",
    "df3m = pd.read_excel('../z20_data/20240514인구.xlsx', thousands=',', skiprows=3,index_col='행정기관',usecols='b,cs:dm')\n",
    "df3m.head(1)\n",
    "\n",
    "df3w = pd.read_excel('../z20_data/20240514인구.xlsx', thousands=',', skiprows=3,index_col='행정기관',usecols='b,dp:ej')\n",
    "df3w.head(1)"
   ]
  },
  {
   "cell_type": "code",
   "execution_count": null,
   "metadata": {},
   "outputs": [],
   "source": [
    "# 4월 데이터\n",
    "df4m = pd.read_excel('../z20_data/20240514인구.xlsx', thousands=',', skiprows=3,index_col='행정기관',usecols='b,em:fg')\n",
    "df4m.head(1)\n",
    "\n",
    "df4w = pd.read_excel('../z20_data/20240514인구.xlsx', thousands=',', skiprows=3,index_col='행정기관',usecols='b,fj:gd')\n",
    "df4w.head(1)"
   ]
  },
  {
   "cell_type": "code",
   "execution_count": 16,
   "metadata": {},
   "outputs": [
    {
     "name": "stderr",
     "output_type": "stream",
     "text": [
      "c:\\Users\\KOREAVC\\AppData\\Local\\Programs\\Python\\Python311\\Lib\\site-packages\\openpyxl\\styles\\stylesheet.py:226: UserWarning: Workbook contains no default style, apply openpyxl's default\n",
      "  warn(\"Workbook contains no default style, apply openpyxl's default\")\n",
      "c:\\Users\\KOREAVC\\AppData\\Local\\Programs\\Python\\Python311\\Lib\\site-packages\\openpyxl\\styles\\stylesheet.py:226: UserWarning: Workbook contains no default style, apply openpyxl's default\n",
      "  warn(\"Workbook contains no default style, apply openpyxl's default\")\n",
      "c:\\Users\\KOREAVC\\AppData\\Local\\Programs\\Python\\Python311\\Lib\\site-packages\\openpyxl\\styles\\stylesheet.py:226: UserWarning: Workbook contains no default style, apply openpyxl's default\n",
      "  warn(\"Workbook contains no default style, apply openpyxl's default\")\n",
      "c:\\Users\\KOREAVC\\AppData\\Local\\Programs\\Python\\Python311\\Lib\\site-packages\\openpyxl\\styles\\stylesheet.py:226: UserWarning: Workbook contains no default style, apply openpyxl's default\n",
      "  warn(\"Workbook contains no default style, apply openpyxl's default\")\n",
      "c:\\Users\\KOREAVC\\AppData\\Local\\Programs\\Python\\Python311\\Lib\\site-packages\\openpyxl\\styles\\stylesheet.py:226: UserWarning: Workbook contains no default style, apply openpyxl's default\n",
      "  warn(\"Workbook contains no default style, apply openpyxl's default\")\n",
      "c:\\Users\\KOREAVC\\AppData\\Local\\Programs\\Python\\Python311\\Lib\\site-packages\\openpyxl\\styles\\stylesheet.py:226: UserWarning: Workbook contains no default style, apply openpyxl's default\n",
      "  warn(\"Workbook contains no default style, apply openpyxl's default\")\n",
      "c:\\Users\\KOREAVC\\AppData\\Local\\Programs\\Python\\Python311\\Lib\\site-packages\\openpyxl\\styles\\stylesheet.py:226: UserWarning: Workbook contains no default style, apply openpyxl's default\n",
      "  warn(\"Workbook contains no default style, apply openpyxl's default\")\n",
      "c:\\Users\\KOREAVC\\AppData\\Local\\Programs\\Python\\Python311\\Lib\\site-packages\\openpyxl\\styles\\stylesheet.py:226: UserWarning: Workbook contains no default style, apply openpyxl's default\n",
      "  warn(\"Workbook contains no default style, apply openpyxl's default\")\n"
     ]
    }
   ],
   "source": [
    "import pandas as pd\n",
    "for i in rangee:\n",
    "    df2 = pd.read_excel('../z20_data/20240514인구.xlsx', thousands=',', skiprows=3,index_col='행정기관',usecols='{}'.format(i))\n",
    "    df2.head(1)"
   ]
  }
 ],
 "metadata": {
  "kernelspec": {
   "display_name": "Python 3",
   "language": "python",
   "name": "python3"
  },
  "language_info": {
   "codemirror_mode": {
    "name": "ipython",
    "version": 3
   },
   "file_extension": ".py",
   "mimetype": "text/x-python",
   "name": "python",
   "nbconvert_exporter": "python",
   "pygments_lexer": "ipython3",
   "version": "3.11.9"
  }
 },
 "nbformat": 4,
 "nbformat_minor": 2
}
