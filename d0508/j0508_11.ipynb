{
 "cells": [
  {
   "cell_type": "code",
   "execution_count": 2,
   "metadata": {},
   "outputs": [
    {
     "name": "stdout",
     "output_type": "stream",
     "text": [
      "25,631,538\n"
     ]
    },
    {
     "name": "stderr",
     "output_type": "stream",
     "text": [
      "c:\\Users\\KOREAVC\\AppData\\Local\\Programs\\Python\\Python311\\Lib\\site-packages\\openpyxl\\styles\\stylesheet.py:226: UserWarning: Workbook contains no default style, apply openpyxl's default\n",
      "  warn(\"Workbook contains no default style, apply openpyxl's default\")\n"
     ]
    }
   ],
   "source": [
    "import pandas as pd\n",
    "df = pd.read_excel('../z20_data/202301_인구.xlsx',skiprows=3,index_col='행정기관',usecols='b,e:y')\n",
    "for i in range(df.shape[0]):\n",
    "    df.iloc[i] = df.iloc[i].str.replace(',','').astype(int)\n",
    "# df.shape # (18, 21)\n",
    "df.describe()\n",
    "df\n",
    "#전국 나이별 인구의 총 합 구하기\n",
    "sum_p = 0\n",
    "for i in range(df.shape[1]):\n",
    "    sum_p += df.iloc[0,i]\n",
    "print(format(sum_p,',d')) # print(format(12345678910, ',d'))"
   ]
  }
 ],
 "metadata": {
  "kernelspec": {
   "display_name": "Python 3",
   "language": "python",
   "name": "python3"
  },
  "language_info": {
   "codemirror_mode": {
    "name": "ipython",
    "version": 3
   },
   "file_extension": ".py",
   "mimetype": "text/x-python",
   "name": "python",
   "nbconvert_exporter": "python",
   "pygments_lexer": "ipython3",
   "version": "3.11.9"
  }
 },
 "nbformat": 4,
 "nbformat_minor": 2
}
