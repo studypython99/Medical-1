{
 "cells": [
  {
   "cell_type": "code",
   "execution_count": 31,
   "metadata": {},
   "outputs": [],
   "source": [
    "import matplotlib.pyplot as plt\n",
    "import matplotlib\n",
    "matplotlib.rcParams['font.family'] = 'Malgun Gothic'\n",
    "matplotlib.rcParams['font.size'] = 10\n",
    "matplotlib.rcParams['axes.unicode_minus'] = False"
   ]
  },
  {
   "cell_type": "code",
   "execution_count": 32,
   "metadata": {},
   "outputs": [
    {
     "data": {
      "text/html": [
       "<div>\n",
       "<style scoped>\n",
       "    .dataframe tbody tr th:only-of-type {\n",
       "        vertical-align: middle;\n",
       "    }\n",
       "\n",
       "    .dataframe tbody tr th {\n",
       "        vertical-align: top;\n",
       "    }\n",
       "\n",
       "    .dataframe thead th {\n",
       "        text-align: right;\n",
       "    }\n",
       "</style>\n",
       "<table border=\"1\" class=\"dataframe\">\n",
       "  <thead>\n",
       "    <tr style=\"text-align: right;\">\n",
       "      <th></th>\n",
       "      <th>이름</th>\n",
       "      <th>학교</th>\n",
       "      <th>학년</th>\n",
       "      <th>키</th>\n",
       "      <th>국어</th>\n",
       "      <th>영어</th>\n",
       "      <th>수학</th>\n",
       "      <th>과학</th>\n",
       "      <th>사회</th>\n",
       "      <th>sw특기</th>\n",
       "      <th>합계</th>\n",
       "    </tr>\n",
       "    <tr>\n",
       "      <th>지원번호</th>\n",
       "      <th></th>\n",
       "      <th></th>\n",
       "      <th></th>\n",
       "      <th></th>\n",
       "      <th></th>\n",
       "      <th></th>\n",
       "      <th></th>\n",
       "      <th></th>\n",
       "      <th></th>\n",
       "      <th></th>\n",
       "      <th></th>\n",
       "    </tr>\n",
       "  </thead>\n",
       "  <tbody>\n",
       "    <tr>\n",
       "      <th>1번</th>\n",
       "      <td>강나래</td>\n",
       "      <td>구로고</td>\n",
       "      <td>3</td>\n",
       "      <td>197</td>\n",
       "      <td>90</td>\n",
       "      <td>85</td>\n",
       "      <td>100</td>\n",
       "      <td>95</td>\n",
       "      <td>85</td>\n",
       "      <td>Python</td>\n",
       "      <td>455</td>\n",
       "    </tr>\n",
       "    <tr>\n",
       "      <th>2번</th>\n",
       "      <td>강태원</td>\n",
       "      <td>구로고</td>\n",
       "      <td>3</td>\n",
       "      <td>184</td>\n",
       "      <td>40</td>\n",
       "      <td>35</td>\n",
       "      <td>50</td>\n",
       "      <td>55</td>\n",
       "      <td>25</td>\n",
       "      <td>Java</td>\n",
       "      <td>205</td>\n",
       "    </tr>\n",
       "    <tr>\n",
       "      <th>3번</th>\n",
       "      <td>강호림</td>\n",
       "      <td>구로고</td>\n",
       "      <td>2</td>\n",
       "      <td>168</td>\n",
       "      <td>80</td>\n",
       "      <td>75</td>\n",
       "      <td>70</td>\n",
       "      <td>80</td>\n",
       "      <td>75</td>\n",
       "      <td>Javascript</td>\n",
       "      <td>380</td>\n",
       "    </tr>\n",
       "    <tr>\n",
       "      <th>4번</th>\n",
       "      <td>김수찬</td>\n",
       "      <td>구로고</td>\n",
       "      <td>1</td>\n",
       "      <td>187</td>\n",
       "      <td>40</td>\n",
       "      <td>60</td>\n",
       "      <td>70</td>\n",
       "      <td>75</td>\n",
       "      <td>80</td>\n",
       "      <td>NaN</td>\n",
       "      <td>325</td>\n",
       "    </tr>\n",
       "    <tr>\n",
       "      <th>5번</th>\n",
       "      <td>김재욱</td>\n",
       "      <td>구로고</td>\n",
       "      <td>1</td>\n",
       "      <td>188</td>\n",
       "      <td>15</td>\n",
       "      <td>20</td>\n",
       "      <td>10</td>\n",
       "      <td>35</td>\n",
       "      <td>10</td>\n",
       "      <td>NaN</td>\n",
       "      <td>90</td>\n",
       "    </tr>\n",
       "    <tr>\n",
       "      <th>6번</th>\n",
       "      <td>박동현</td>\n",
       "      <td>단지고</td>\n",
       "      <td>3</td>\n",
       "      <td>202</td>\n",
       "      <td>80</td>\n",
       "      <td>100</td>\n",
       "      <td>95</td>\n",
       "      <td>85</td>\n",
       "      <td>85</td>\n",
       "      <td>C+</td>\n",
       "      <td>445</td>\n",
       "    </tr>\n",
       "    <tr>\n",
       "      <th>7번</th>\n",
       "      <td>박혜정</td>\n",
       "      <td>단지고</td>\n",
       "      <td>2</td>\n",
       "      <td>188</td>\n",
       "      <td>55</td>\n",
       "      <td>65</td>\n",
       "      <td>45</td>\n",
       "      <td>40</td>\n",
       "      <td>35</td>\n",
       "      <td>PYTHON</td>\n",
       "      <td>240</td>\n",
       "    </tr>\n",
       "    <tr>\n",
       "      <th>8번</th>\n",
       "      <td>송근열</td>\n",
       "      <td>단지고</td>\n",
       "      <td>2</td>\n",
       "      <td>190</td>\n",
       "      <td>100</td>\n",
       "      <td>85</td>\n",
       "      <td>90</td>\n",
       "      <td>94</td>\n",
       "      <td>95</td>\n",
       "      <td>c#</td>\n",
       "      <td>464</td>\n",
       "    </tr>\n",
       "  </tbody>\n",
       "</table>\n",
       "</div>"
      ],
      "text/plain": [
       "       이름   학교  학년    키   국어   영어   수학  과학  사회        sw특기   합계\n",
       "지원번호                                                           \n",
       "1번    강나래  구로고   3  197   90   85  100  95  85      Python  455\n",
       "2번    강태원  구로고   3  184   40   35   50  55  25        Java  205\n",
       "3번    강호림  구로고   2  168   80   75   70  80  75  Javascript  380\n",
       "4번    김수찬  구로고   1  187   40   60   70  75  80         NaN  325\n",
       "5번    김재욱  구로고   1  188   15   20   10  35  10         NaN   90\n",
       "6번    박동현  단지고   3  202   80  100   95  85  85          C+  445\n",
       "7번    박혜정  단지고   2  188   55   65   45  40  35      PYTHON  240\n",
       "8번    송근열  단지고   2  190  100   85   90  94  95          c#  464"
      ]
     },
     "execution_count": 32,
     "metadata": {},
     "output_type": "execute_result"
    }
   ],
   "source": [
    "import pandas as pd\n",
    "df = pd.read_excel('../z20_data/score.xlsx',index_col='지원번호')\n",
    "df['합계'] = df['국어']+df['영어']+df['수학']+df['과학']+df['사회']\n",
    "df"
   ]
  },
  {
   "cell_type": "code",
   "execution_count": 16,
   "metadata": {},
   "outputs": [
    {
     "name": "stdout",
     "output_type": "stream",
     "text": [
      "<class 'pandas.core.frame.DataFrame'>\n",
      "Index: 8 entries, 1번 to 8번\n",
      "Data columns (total 11 columns):\n",
      " #   Column  Non-Null Count  Dtype \n",
      "---  ------  --------------  ----- \n",
      " 0   이름      8 non-null      object\n",
      " 1   학교      8 non-null      object\n",
      " 2   학년      8 non-null      int64 \n",
      " 3   키       8 non-null      int64 \n",
      " 4   국어      8 non-null      int64 \n",
      " 5   영어      8 non-null      int64 \n",
      " 6   수학      8 non-null      int64 \n",
      " 7   과학      8 non-null      int64 \n",
      " 8   사회      8 non-null      int64 \n",
      " 9   sw특기    6 non-null      object\n",
      " 10  합계      8 non-null      int64 \n",
      "dtypes: int64(8), object(3)\n",
      "memory usage: 1.0+ KB\n"
     ]
    }
   ],
   "source": [
    "df.info()"
   ]
  },
  {
   "cell_type": "code",
   "execution_count": 45,
   "metadata": {},
   "outputs": [
    {
     "data": {
      "text/plain": [
       "array([0, 1, 2, 3, 4, 5, 6, 7])"
      ]
     },
     "execution_count": 45,
     "metadata": {},
     "output_type": "execute_result"
    }
   ],
   "source": [
    "import numpy as np\n",
    "x = df['이름']\n",
    "y = df['국어']\n",
    "y2 = df['영어']\n",
    "y3 = df['수학']\n",
    "index = np.arange(8) # numpy를 사용하자...\n",
    "# index = [x for x in range(8)] 리스트타입..\n",
    "index"
   ]
  },
  {
   "cell_type": "code",
   "execution_count": 47,
   "metadata": {},
   "outputs": [
    {
     "data": {
      "text/plain": [
       "<matplotlib.legend.Legend at 0x1778b7d1610>"
      ]
     },
     "execution_count": 47,
     "metadata": {},
     "output_type": "execute_result"
    },
    {
     "data": {
      "image/png": "[encoded data removed]",
      "text/plain": [
       "<Figure size 640x480 with 1 Axes>"
      ]
     },
     "metadata": {},
     "output_type": "display_data"
    }
   ],
   "source": [
    "plt.bar(index-0.2,y,width=0.2,label='국어')\n",
    "plt.bar(index,y2,width=0.2,label='영어')\n",
    "plt.bar(index+0.2,y3,width=0.2,label='수학')\n",
    "plt.legend(loc='upper center')\n",
    "plt.xticks(index,x) # 이름을 가져옴\n",
    "\n"
   ]
  },
  {
   "cell_type": "code",
   "execution_count": 29,
   "metadata": {},
   "outputs": [
    {
     "name": "stderr",
     "output_type": "stream",
     "text": [
      "C:\\Users\\KOREAVC\\AppData\\Local\\Temp\\ipykernel_19868\\2658154279.py:5: FutureWarning: Series.__getitem__ treating keys as positions is deprecated. In a future version, integer keys will always be treated as labels (consistent with DataFrame behavior). To access a value by position, use `ser.iloc[pos]`\n",
      "  plt.text(x[i],y3[i],txt,ha='center')\n"
     ]
    },
    {
     "data": {
      "image/png": "[encoded data removed]",
      "text/plain": [
       "<Figure size 640x480 with 1 Axes>"
      ]
     },
     "metadata": {},
     "output_type": "display_data"
    }
   ],
   "source": [
    "colors = ['r','g','b','y','m']\n",
    "plt.bar(x,y3,label='국어',color=colors)\n",
    "\n",
    "for i,txt in enumerate(y3):\n",
    "    plt.text(x[i],y3[i],txt,ha='center')\n",
    "plt.xticks(rotation=45) # x축 컬럼 45도 기울이기\n",
    "# ncol = 3 // 1줄에 3개 표시\n",
    "plt.legend(loc='upper right')\n",
    "plt.show()"
   ]
  },
  {
   "cell_type": "code",
   "execution_count": 48,
   "metadata": {},
   "outputs": [
    {
     "name": "stderr",
     "output_type": "stream",
     "text": [
      "C:\\Users\\KOREAVC\\AppData\\Local\\Temp\\ipykernel_19336\\3473755421.py:11: FutureWarning: Series.__getitem__ treating keys as positions is deprecated. In a future version, integer keys will always be treated as labels (consistent with DataFrame behavior). To access a value by position, use `ser.iloc[pos]`\n",
      "  plt.text(x[i],y3[i],txt,ha='center')\n"
     ]
    },
    {
     "data": {
      "image/png": "[encoded data removed]",
      "text/plain": [
       "<Figure size 640x480 with 1 Axes>"
      ]
     },
     "metadata": {},
     "output_type": "display_data"
    }
   ],
   "source": [
    "x = df.head(3)['이름']\n",
    "y = df.head(3)['국어']\n",
    "y2 = df.head(3)['영어']\n",
    "y3 = df.head(3)['수학']\n",
    "\n",
    "plt.bar(x,y3,label='국어',width=0.5,alpha=0.5) # width: 막대그래프 폭 조절\n",
    "                                                # alpha=0.5 투명도\n",
    "\n",
    "\n",
    "for i,txt in enumerate(y3):\n",
    "    plt.text(x[i],y3[i],txt,ha='center')\n",
    "plt.xticks(rotation=45) # x축 컬럼 45도 기울이기\n",
    "# ncol = 3 // 1줄에 3개 표시\n",
    "plt.legend(loc='upper right')\n",
    "plt.show()"
   ]
  }
 ],
 "metadata": {
  "kernelspec": {
   "display_name": "Python 3",
   "language": "python",
   "name": "python3"
  },
  "language_info": {
   "codemirror_mode": {
    "name": "ipython",
    "version": 3
   },
   "file_extension": ".py",
   "mimetype": "text/x-python",
   "name": "python",
   "nbconvert_exporter": "python",
   "pygments_lexer": "ipython3",
   "version": "3.11.9"
  }
 },
 "nbformat": 4,
 "nbformat_minor": 2
}
