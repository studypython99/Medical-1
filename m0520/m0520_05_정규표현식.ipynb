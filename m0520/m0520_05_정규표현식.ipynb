{
 "cells": [
  {
   "cell_type": "code",
   "execution_count": 29,
   "metadata": {},
   "outputs": [
    {
     "name": "stdout",
     "output_type": "stream",
     "text": [
      "매칭x\n"
     ]
    }
   ],
   "source": [
    "import re\n",
    "# 정규표현식\n",
    "# . << 한글자만 아무거나 들어가도 매칭o\n",
    "p = re.compile(\"ca.e\") # 정규표현식을 지정\n",
    "word = 'cafe'\n",
    "word2 = 'care'\n",
    "word3 = 'kare'\n",
    "if p.match(word3):\n",
    "    print('매칭o')\n",
    "else:\n",
    "    print('매칭x')\n",
    "    \n"
   ]
  },
  {
   "cell_type": "code",
   "execution_count": 33,
   "metadata": {},
   "outputs": [
    {
     "name": "stdout",
     "output_type": "stream",
     "text": [
      "매칭o\n"
     ]
    }
   ],
   "source": [
    "# ^ << 시작하는 문구가\n",
    "word = 'deee'\n",
    "if re.match(r'^(de)',word):\n",
    "    print('매칭o')\n",
    "else:\n",
    "    print('매칭x')\n",
    "    "
   ]
  },
  {
   "cell_type": "code",
   "execution_count": 37,
   "metadata": {},
   "outputs": [
    {
     "name": "stdout",
     "output_type": "stream",
     "text": [
      "매칭o\n"
     ]
    }
   ],
   "source": [
    "# ^ << 시작하는 문구가\n",
    "# match: 정확히 일치해야 True\n",
    "# search: 포함되어 있으면 True\n",
    "word = 'case'\n",
    "p = re.compile('(se$)')\n",
    "if p.search(word):\n",
    "    print('매칭o')\n",
    "else:\n",
    "    print('매칭x')"
   ]
  },
  {
   "cell_type": "code",
   "execution_count": 40,
   "metadata": {},
   "outputs": [
    {
     "name": "stdout",
     "output_type": "stream",
     "text": [
      "매칭o\n"
     ]
    }
   ],
   "source": [
    "# {3}: 3자리가 들어와야 True\n",
    "# {2,3}: 2~3자리가 들어와야 True\n",
    "# ^시작\n",
    "# []: [] 안에 있는 글자만 True\n",
    "# a-z: abcd...xyz\n",
    "# A-Z: ABCD...XYZ\n",
    "# 0-9: 0123,,,789\n",
    "# ㄱ-ㅎ, 가-힣: 국문만 가능\n",
    "# 첫글자가 a 이면서 영 소문자가 5개만 들어올 수 있다.\n",
    "word = 'abcdef'\n",
    "if re.match(r'^a{1}[a-z]{5}$',word):\n",
    "    print('매칭o')\n",
    "else:\n",
    "    print('매칭x')"
   ]
  },
  {
   "cell_type": "code",
   "execution_count": 42,
   "metadata": {},
   "outputs": [
    {
     "name": "stdout",
     "output_type": "stream",
     "text": [
      "매칭o\n"
     ]
    }
   ],
   "source": [
    "# 핸드폰번호 확인하기\n",
    "word = '010-2222-2222'\n",
    "if re.search('[0-9]{2,3}-[0-9]{4}-[0-9]{4}',word):\n",
    "    print('매칭o')\n",
    "else:\n",
    "    print('매칭x')"
   ]
  },
  {
   "cell_type": "code",
   "execution_count": null,
   "metadata": {},
   "outputs": [],
   "source": [
    "# 정규표현식\n",
    "# 데이터를 입력받아, 길이가 6자리, \n",
    "# 첫글자 a 입력되면 패스, 아니면 다시 입력"
   ]
  },
  {
   "cell_type": "code",
   "execution_count": 21,
   "metadata": {},
   "outputs": [
    {
     "name": "stdout",
     "output_type": "stream",
     "text": [
      "re\n",
      "ok\n"
     ]
    }
   ],
   "source": [
    "while True:\n",
    "    name = input('입력 >>')\n",
    "    if name[0] == 'a' and len(name) == 6:\n",
    "        print('ok')\n",
    "        break\n",
    "    else:\n",
    "        print('re')\n",
    "        "
   ]
  },
  {
   "cell_type": "code",
   "execution_count": 24,
   "metadata": {},
   "outputs": [
    {
     "name": "stdout",
     "output_type": "stream",
     "text": [
      "ok\n"
     ]
    }
   ],
   "source": [
    "# 첫글자 1, 길이가 6, 숫자만 입력 가능\n",
    "while True:\n",
    "    num = input(\"숫자입력>>\")\n",
    "    if num.isdigit() and num[0] == '1' and len(num) ==6:\n",
    "        print('ok')\n",
    "        break\n",
    "    else:\n",
    "        print('re')\n"
   ]
  }
 ],
 "metadata": {
  "kernelspec": {
   "display_name": "Python 3",
   "language": "python",
   "name": "python3"
  },
  "language_info": {
   "codemirror_mode": {
    "name": "ipython",
    "version": 3
   },
   "file_extension": ".py",
   "mimetype": "text/x-python",
   "name": "python",
   "nbconvert_exporter": "python",
   "pygments_lexer": "ipython3",
   "version": "3.11.9"
  }
 },
 "nbformat": 4,
 "nbformat_minor": 2
}
