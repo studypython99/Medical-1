{
 "cells": [
  {
   "cell_type": "code",
   "execution_count": 1,
   "metadata": {},
   "outputs": [],
   "source": [
    "from sklearn import svm,metrics\n",
    "from sklearn.model_selection import train_test_split\n",
    "import pandas as pd\n",
    "import numpy as np\n",
    "import matplotlib.pyplot as plt\n",
    "import matplotlib\n",
    "import random\n",
    "matplotlib.rcParams['font.family'] = 'Malgun Gothic'\n",
    "matplotlib.rcParams['font.size'] = 10\n",
    "matplotlib.rcParams['axes.unicode_minus'] = False"
   ]
  },
  {
   "cell_type": "code",
   "execution_count": 3,
   "metadata": {},
   "outputs": [],
   "source": [
    "#[ 도미 ]\n",
    "bream_length = [25.4, 26.3, 26.5, 29.0, 29.0, 29.7, 29.7, 30.0, 30.0, 30.7, 31.0, 31.0, 31.5, 32.0, 32.0, 32.0, 33.0, 33.0,\n",
    "33.5, 33.5, 34.0, 34.0, 34.5, 35.0, 35.0, 35.0, 35.0, 36.0, 36.0, 37.0, 38.5, 38.5, 39.5, 41.0, 41.0]\n",
    "bream_weight = [242.0, 290.0, 340.0, 363.0, 430.0, 450.0, 500.0, 390.0, 450.0, 500.0, 475.0, 500.0, 500.0, 340.0, 600.0, 600.0, 700.0, 700.0,\n",
    "610.0, 650.0, 575.0, 685.0, 620.0, 680.0, 700.0, 725.0, 720.0, 714.0, 850.0, 1000.0, 920.0, 955.0, 925.0, 975.0, 950.0]\n",
    "#[ 빙어 ]\n",
    "smelt_length = [9.8, 10.5, 10.6, 11.0, 11.2, 11.3, 11.8, 11.8, 12.0, 12.2, 12.4, 13.0, 14.3, 15.0]\n",
    "smelt_weight = [6.7, 7.5, 7.0, 9.7, 9.8, 8.7, 10.0, 9.9, 9.8, 12.2, 13.4, 12.2, 19.7, 19.9]"
   ]
  },
  {
   "cell_type": "code",
   "execution_count": 5,
   "metadata": {},
   "outputs": [
    {
     "data": {
      "text/plain": [
       "14"
      ]
     },
     "execution_count": 5,
     "metadata": {},
     "output_type": "execute_result"
    }
   ],
   "source": [
    "len(bream_length) # 35 도미\n",
    "len(smelt_length) # 14 빙어"
   ]
  },
  {
   "cell_type": "code",
   "execution_count": null,
   "metadata": {},
   "outputs": [],
   "source": [
    "# 1. 데이터 전처리\n",
    "# train_input, test_input, train_target, test_target"
   ]
  },
  {
   "cell_type": "code",
   "execution_count": null,
   "metadata": {},
   "outputs": [],
   "source": [
    "### length -> 합치기 (bream_length,smelt_length)\n",
    "### weight -> 합치기 (bream_weight,smelt_weight)\n",
    "### datas = [ length, weight ] 합치기\n",
    "### train_input,test_input,train_target,test_target"
   ]
  },
  {
   "cell_type": "code",
   "execution_count": 6,
   "metadata": {},
   "outputs": [],
   "source": [
    "length = bream_length + smelt_length\n",
    "weight = bream_weight + smelt_weight"
   ]
  },
  {
   "cell_type": "code",
   "execution_count": 17,
   "metadata": {},
   "outputs": [
    {
     "data": {
      "text/plain": [
       "[[25.4, 242.0, 1],\n",
       " [26.3, 290.0, 1],\n",
       " [26.5, 340.0, 1],\n",
       " [29.0, 363.0, 1],\n",
       " [29.0, 430.0, 1],\n",
       " [29.7, 450.0, 1],\n",
       " [29.7, 500.0, 1],\n",
       " [30.0, 390.0, 1],\n",
       " [30.0, 450.0, 1],\n",
       " [30.7, 500.0, 1],\n",
       " [31.0, 475.0, 1],\n",
       " [31.0, 500.0, 1],\n",
       " [31.5, 500.0, 1],\n",
       " [32.0, 340.0, 1],\n",
       " [32.0, 600.0, 1],\n",
       " [32.0, 600.0, 1],\n",
       " [33.0, 700.0, 1],\n",
       " [33.0, 700.0, 1],\n",
       " [33.5, 610.0, 1],\n",
       " [33.5, 650.0, 1],\n",
       " [34.0, 575.0, 1],\n",
       " [34.0, 685.0, 1],\n",
       " [34.5, 620.0, 1],\n",
       " [35.0, 680.0, 1],\n",
       " [35.0, 700.0, 1],\n",
       " [35.0, 725.0, 1],\n",
       " [35.0, 720.0, 1],\n",
       " [36.0, 714.0, 1],\n",
       " [36.0, 850.0, 1],\n",
       " [37.0, 1000.0, 1],\n",
       " [38.5, 920.0, 1],\n",
       " [38.5, 955.0, 1],\n",
       " [39.5, 925.0, 1],\n",
       " [41.0, 975.0, 1],\n",
       " [41.0, 950.0, 1],\n",
       " [9.8, 6.7, 0],\n",
       " [10.5, 7.5, 0],\n",
       " [10.6, 7.0, 0],\n",
       " [11.0, 9.7, 0],\n",
       " [11.2, 9.8, 0],\n",
       " [11.3, 8.7, 0],\n",
       " [11.8, 10.0, 0],\n",
       " [11.8, 9.9, 0],\n",
       " [12.0, 9.8, 0],\n",
       " [12.2, 12.2, 0],\n",
       " [12.4, 13.4, 0],\n",
       " [13.0, 12.2, 0],\n",
       " [14.3, 19.7, 0],\n",
       " [15.0, 19.9, 0]]"
      ]
     },
     "execution_count": 17,
     "metadata": {},
     "output_type": "execute_result"
    }
   ],
   "source": [
    "# T\n",
    "result = [1]*35+[0]*14 # 도미1 빙어0\n",
    "datas = [[l,w,r] for l,w,r in zip(length,weight,result)]\n",
    "datas"
   ]
  },
  {
   "cell_type": "code",
   "execution_count": 13,
   "metadata": {},
   "outputs": [
    {
     "data": {
      "text/plain": [
       "[[25.4, 242.0],\n",
       " [26.3, 290.0],\n",
       " [26.5, 340.0],\n",
       " [29.0, 363.0],\n",
       " [29.0, 430.0],\n",
       " [29.7, 450.0],\n",
       " [29.7, 500.0],\n",
       " [30.0, 390.0],\n",
       " [30.0, 450.0],\n",
       " [30.7, 500.0],\n",
       " [31.0, 475.0],\n",
       " [31.0, 500.0],\n",
       " [31.5, 500.0],\n",
       " [32.0, 340.0],\n",
       " [32.0, 600.0],\n",
       " [32.0, 600.0],\n",
       " [33.0, 700.0],\n",
       " [33.0, 700.0],\n",
       " [33.5, 610.0],\n",
       " [33.5, 650.0],\n",
       " [34.0, 575.0],\n",
       " [34.0, 685.0],\n",
       " [34.5, 620.0],\n",
       " [35.0, 680.0],\n",
       " [35.0, 700.0],\n",
       " [35.0, 725.0],\n",
       " [35.0, 720.0],\n",
       " [36.0, 714.0],\n",
       " [36.0, 850.0],\n",
       " [37.0, 1000.0],\n",
       " [38.5, 920.0],\n",
       " [38.5, 955.0],\n",
       " [39.5, 925.0],\n",
       " [41.0, 975.0],\n",
       " [41.0, 950.0],\n",
       " [9.8, 6.7],\n",
       " [10.5, 7.5],\n",
       " [10.6, 7.0],\n",
       " [11.0, 9.7],\n",
       " [11.2, 9.8],\n",
       " [11.3, 8.7],\n",
       " [11.8, 10.0],\n",
       " [11.8, 9.9],\n",
       " [12.0, 9.8],\n",
       " [12.2, 12.2],\n",
       " [12.4, 13.4],\n",
       " [13.0, 12.2],\n",
       " [14.3, 19.7],\n",
       " [15.0, 19.9]]"
      ]
     },
     "execution_count": 13,
     "metadata": {},
     "output_type": "execute_result"
    }
   ],
   "source": [
    "datas = []\n",
    "for i in range(len(bream_length)+len(smelt_length)):\n",
    "    data = [length[i],weight[i]]\n",
    "    datas.append(data)\n",
    "datas"
   ]
  }
 ],
 "metadata": {
  "kernelspec": {
   "display_name": "Python 3",
   "language": "python",
   "name": "python3"
  },
  "language_info": {
   "codemirror_mode": {
    "name": "ipython",
    "version": 3
   },
   "file_extension": ".py",
   "mimetype": "text/x-python",
   "name": "python",
   "nbconvert_exporter": "python",
   "pygments_lexer": "ipython3",
   "version": "3.11.9"
  }
 },
 "nbformat": 4,
 "nbformat_minor": 2
}
