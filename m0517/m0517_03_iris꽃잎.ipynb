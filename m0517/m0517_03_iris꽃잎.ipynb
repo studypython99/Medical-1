{
 "cells": [
  {
   "cell_type": "code",
   "execution_count": 109,
   "metadata": {},
   "outputs": [],
   "source": [
    "from sklearn import svm,metrics\n",
    "from sklearn.model_selection import train_test_split\n",
    "import pandas as pd\n",
    "import numpy as np\n",
    "import matplotlib.pyplot as plt\n",
    "import matplotlib\n",
    "import random\n",
    "matplotlib.rcParams['font.family'] = 'Malgun Gothic'\n",
    "matplotlib.rcParams['font.size'] = 10\n",
    "matplotlib.rcParams['axes.unicode_minus'] = False"
   ]
  },
  {
   "cell_type": "markdown",
   "metadata": {},
   "source": [
    "### 1. 데이터 전처리\n",
    "### 2. 데이터 학습시키기\n",
    "### 3. 데이터 예측\n",
    "### 4. 정답률 구하기"
   ]
  },
  {
   "cell_type": "code",
   "execution_count": 110,
   "metadata": {},
   "outputs": [],
   "source": [
    "df = pd.read_csv('../z20_data/02.iris.csv')"
   ]
  },
  {
   "cell_type": "code",
   "execution_count": 111,
   "metadata": {},
   "outputs": [],
   "source": [
    "# 1. 데이터 전처리: train_data, test_data\n",
    "#   문제와 답을 분리\n",
    "# 2. 데이터 학습시키기\n",
    "# 3. 데이터 예측하기\n",
    "# 4. 데이터 결과, 정답률"
   ]
  },
  {
   "cell_type": "code",
   "execution_count": 112,
   "metadata": {},
   "outputs": [],
   "source": [
    "# # 파이썬 random 함수\n",
    "# ran = [i for i in range(150)]\n",
    "# random.shuffle(ran)\n",
    "# ran\n"
   ]
  },
  {
   "cell_type": "code",
   "execution_count": 113,
   "metadata": {},
   "outputs": [
    {
     "name": "stdout",
     "output_type": "stream",
     "text": [
      "[ 47  89  58  53  28  34  79 116  96 110  81 147  10  36   9 142   5  80\n",
      "  60  11  12 109  25  84   3  87 100  95  66 126  35 125  85 128 144 112\n",
      " 135  97  61  93  74  33  43 105  54  68   4  51  16 129  77 141 106  21\n",
      "  55 134  69  32 145  24  98 122  31  38 149  30  18 101 143  22  67 132\n",
      "   6  65 115  64 130 114 137  48 104  26 119  44  45  56  13  63 148  83\n",
      "  50 146  37  92 124 140  59  57  94  99 133  73  14   2  46   7  23  82\n",
      "  88 102   1  70  39  76 107  27  17  75  49  19  91 120  72  62 121  86\n",
      " 139  90   8  15 113 117  42 103 136 138 131  52  20 108  29 118  78  41\n",
      " 111  40 123  71 127   0]\n"
     ]
    }
   ],
   "source": [
    "# numpy random 함수, 데이터 순서를 랜덤으로 변경\n",
    "index = np.arange(150)\n",
    "np.random.shuffle(index)\n",
    "print(index)"
   ]
  },
  {
   "cell_type": "code",
   "execution_count": 114,
   "metadata": {},
   "outputs": [],
   "source": [
    "# 자동으로 train, test데이터를 분리해준다\n",
    "# from sklearn.model_selection import train_test_split\n"
   ]
  },
  {
   "cell_type": "code",
   "execution_count": 115,
   "metadata": {},
   "outputs": [],
   "source": [
    "# 1. 데이터 전처리: train_data, test_data\n",
    "# random code: 0~149 랜덤숫자 생성, index로 df에 대입.\n",
    "\n",
    "#   문제와 답을 분리\n",
    "# df[['SepalLength','SepalWidth','PetalLength','PetalWidth']] # 문제\n",
    "# df['Name'] # 답"
   ]
  },
  {
   "cell_type": "code",
   "execution_count": 116,
   "metadata": {},
   "outputs": [],
   "source": [
    "\n",
    "# train_input rows 100개를 출력하시오, 나머지 50개 나눠서 저장하기\n",
    "# iloc(row, comumns)\n",
    "# train_input = df.iloc[index[:100],:-1]\n",
    "# test_input = df.iloc[index[100:],:-1]\n",
    "# # df[['SepalLength','SepalWidth','PetalLength','PetalWidth']][:100] # 문제\n",
    "# # df[['SepalLength','SepalWidth','PetalLength','PetalWidth']][100:] # 문제\n",
    "\n",
    "\n",
    "# # train_target rows 100개를 출력하시오, 나머지 50개 나눠서 저장하기\n",
    "# train_target = df.iloc[index[:100],4]\n",
    "# test_target = df.iloc[index[100:],4]\n",
    "# df['Name'][:100] # 답\n",
    "# df['Name'][100:] # 답"
   ]
  },
  {
   "cell_type": "code",
   "execution_count": 117,
   "metadata": {},
   "outputs": [
    {
     "data": {
      "text/plain": [
       "0         Iris-setosa\n",
       "1         Iris-setosa\n",
       "2         Iris-setosa\n",
       "3         Iris-setosa\n",
       "4         Iris-setosa\n",
       "            ...      \n",
       "145    Iris-virginica\n",
       "146    Iris-virginica\n",
       "147    Iris-virginica\n",
       "148    Iris-virginica\n",
       "149    Iris-virginica\n",
       "Name: Name, Length: 150, dtype: object"
      ]
     },
     "execution_count": 117,
     "metadata": {},
     "output_type": "execute_result"
    }
   ],
   "source": [
    "datas_input = df.iloc[:,:-1]# name제외한 앞 컬럼들\n",
    "datas_target = df.iloc[:,4]# name 컬럼"
   ]
  },
  {
   "cell_type": "code",
   "execution_count": 118,
   "metadata": {},
   "outputs": [],
   "source": [
    "# 자동으로 train, test데이터를 분리해준다\n",
    "from sklearn.model_selection import train_test_split\n",
    "train_input, test_input, train_target, test_target = train_test_split(datas_input,datas_target)"
   ]
  },
  {
   "cell_type": "code",
   "execution_count": 119,
   "metadata": {},
   "outputs": [
    {
     "name": "stdout",
     "output_type": "stream",
     "text": [
      "정답률:  0.9473684210526315\n"
     ]
    }
   ],
   "source": [
    "# 2. 데이터 학습시키기\n",
    "clf = svm.SVC()\n",
    "# 데이터 훈련\n",
    "clf.fit(train_input,train_target)\n",
    "\n",
    "# 3. 데이터 예측\n",
    "result = clf.predict(test_input)\n",
    "\n",
    "# 4. 정답률\n",
    "score = metrics.accuracy_score(test_target,result)\n",
    "print('정답률: ',score)"
   ]
  }
 ],
 "metadata": {
  "kernelspec": {
   "display_name": "Python 3",
   "language": "python",
   "name": "python3"
  },
  "language_info": {
   "codemirror_mode": {
    "name": "ipython",
    "version": 3
   },
   "file_extension": ".py",
   "mimetype": "text/x-python",
   "name": "python",
   "nbconvert_exporter": "python",
   "pygments_lexer": "ipython3",
   "version": "3.11.9"
  }
 },
 "nbformat": 4,
 "nbformat_minor": 2
}
