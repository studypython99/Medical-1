{
 "cells": [
  {
   "cell_type": "code",
   "execution_count": null,
   "metadata": {},
   "outputs": [],
   "source": [
    "# 정규표현식\n",
    "\n",
    "# . 하나의 문자\n",
    "# ^ 문자열 시작\n",
    "# $ 문자열의 끝\n",
    "# [] 대괄호 안에, 일치하는 것을 입력시킴\n",
    "# ex) [1-9][a-z][A-Z][ㄱ-ㅎ가-힣]\n",
    "# {} 숫자or문자의 길이, {2} 길이가 2\n",
    "# {3,} 길이가 3자리 이상, {,3} 문자의 길이가 3자리까지\n",
    "# {2,3} 길이가 2~3\n",
    "\n",
    "# match() 처음부터 모두 일치하는지 확인\n",
    "# search() 일치하는것이 있는지 확인\n",
    "# findall() 일치하는것이 있는지 리스트로부터 확인\n",
    "# group() 일치하면 해당되는 문자를 출력\n",
    "# compile() 정규식 형태를 지정\n",
    "# sub() 일치하는 데이터를 삭제"
   ]
  },
  {
   "cell_type": "code",
   "execution_count": 12,
   "metadata": {},
   "outputs": [
    {
     "name": "stdout",
     "output_type": "stream",
     "text": [
      "yes :D\n"
     ]
    }
   ],
   "source": [
    "import re\n",
    "\n",
    "p = re.compile('lo..k') # . 하나의 문자, 점 여러개도 가능\n",
    "word = 'loddk'\n",
    "if p.match(word):\n",
    "    print(\"yes :D\")\n",
    "    \n",
    "else:\n",
    "    print(\"no :b\")"
   ]
  },
  {
   "cell_type": "code",
   "execution_count": 14,
   "metadata": {},
   "outputs": [
    {
     "name": "stdout",
     "output_type": "stream",
     "text": [
      "yes :D good care\n"
     ]
    }
   ],
   "source": [
    "word = \"good care\"\n",
    "if re.search('ca.e',word):\n",
    "    print(\"yes :D\",word)\n",
    "    \n",
    "else:\n",
    "    print(\"no :b\",word)"
   ]
  },
  {
   "cell_type": "code",
   "execution_count": 15,
   "metadata": {},
   "outputs": [
    {
     "name": "stdout",
     "output_type": "stream",
     "text": [
      "yes :D 삼성전자는 21일 개선된 AI(인공지능) 기능을 제공하는 '갤럭시 북4 엣지'를 공개했다.\n"
     ]
    }
   ],
   "source": [
    "word = \"삼성전자는 21일 개선된 AI(인공지능) 기능을 제공하는 '갤럭시 북4 엣지'를 공개했다.\"\n",
    "if re.search('지능',word):\n",
    "    print(\"yes :D\",word) \n",
    "else:\n",
    "    print(\"no :b\",word)"
   ]
  },
  {
   "cell_type": "code",
   "execution_count": 17,
   "metadata": {},
   "outputs": [
    {
     "name": "stdout",
     "output_type": "stream",
     "text": [
      "yes :D en-1.txt\n"
     ]
    }
   ],
   "source": [
    "word = 'en-1.txt'\n",
    "word2 = 'fr-1.txt'\n",
    "# 시작 문자가 영문으로 2글자 이상인 문자를 가져와주세요\n",
    "if re.match('^[a-z]{2,}',word).group(): # group() 일치하면 해당되는 문자를 출력\n",
    "\n",
    "    print(\"yes :D\",word)\n",
    "    \n",
    "else:\n",
    "    print(\"no :b\",word)\n",
    "    "
   ]
  },
  {
   "cell_type": "code",
   "execution_count": 19,
   "metadata": {},
   "outputs": [
    {
     "data": {
      "text/plain": [
       "'갤럭시 북4    엣지는 44  35 6cm 14형  1종과  40 6cm     16형    2종 등  모두 세 가지 모델로 출시된다  16형 기준 최대 22시간의 동영상 재생이 가능한 배터리가 탑재됐고  초고속 충전 기능도 갖췄다 '"
      ]
     },
     "execution_count": 19,
     "metadata": {},
     "output_type": "execute_result"
    }
   ],
   "source": [
    "word = \"갤럭시 북4 ???엣지는%44# 35.6cm(14형) 1종과@ 40.6cm... (16형)** 2종 등! 모두 세 가지 모델로 출시된다. 16형 기준 최대 22시간의 동영상 재생이 가능한 배터리가 탑재됐고, 초고속 충전 기능도 갖췄다.\"\n",
    "# '^[0-9]': 숫자로 시작하는, '[^0-9]': 숫자가 아닌\n",
    "'[^0-9a-zA-zㄱ-ㅎ가-힣]'\n",
    "words = re.sub('[^0-9a-zA-zㄱ-ㅎ가-힣]', ' ',word)\n",
    "words"
   ]
  },
  {
   "cell_type": "code",
   "execution_count": 23,
   "metadata": {},
   "outputs": [
    {
     "name": "stdout",
     "output_type": "stream",
     "text": [
      "no :b 300002\n"
     ]
    }
   ],
   "source": [
    "# 첫글자가 영문이면서, 숫자와 영문상관없이 총 6자리인 문자 확인\n",
    "word = '300002'\n",
    "if re.match('^[a-z]{1}[a-zA-Z0-9]{5}',word):\n",
    "    print(\"yes :D\",word)\n",
    "    \n",
    "else:\n",
    "    print(\"no :b\",word)"
   ]
  },
  {
   "cell_type": "code",
   "execution_count": null,
   "metadata": {},
   "outputs": [],
   "source": []
  }
 ],
 "metadata": {
  "kernelspec": {
   "display_name": "Python 3",
   "language": "python",
   "name": "python3"
  },
  "language_info": {
   "codemirror_mode": {
    "name": "ipython",
    "version": 3
   },
   "file_extension": ".py",
   "mimetype": "text/x-python",
   "name": "python",
   "nbconvert_exporter": "python",
   "pygments_lexer": "ipython3",
   "version": "3.11.9"
  }
 },
 "nbformat": 4,
 "nbformat_minor": 2
}
